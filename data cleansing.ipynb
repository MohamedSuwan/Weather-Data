{
 "cells": [
  {
   "cell_type": "markdown",
   "source": [
    "import regular expression module to modify the file to my use"
   ],
   "metadata": {}
  },
  {
   "cell_type": "code",
   "execution_count": 25,
   "source": [
    "import re"
   ],
   "outputs": [],
   "metadata": {}
  },
  {
   "cell_type": "markdown",
   "source": [
    "read the file scraped from the web"
   ],
   "metadata": {}
  },
  {
   "cell_type": "code",
   "execution_count": 26,
   "source": [
    "f=open(\"/home/roy/Documents/2020.text\",\"r\")\n",
    "f=f.read()\n",
    "print(f[:500])"
   ],
   "outputs": [
    {
     "output_type": "stream",
     "name": "stdout",
     "text": [
      "1-Jan-2020 00:00 Wed, 1 Jan 5 °C Fog. No wind ↑ 93% 1020 mbar 5 km\n",
      "1-Jan-2020 01:00 5 °C Fog. 4 km/h ↑ 87% 1019 mbar 4 km \n",
      "1-Jan-2020 02:00 5 °C Fog. 4 km/h ↑ 87% 1019 mbar 4 km \n",
      "1-Jan-2020 03:00 5 °C Fog. 4 km/h ↑ 87% 1019 mbar 4 km \n",
      "1-Jan-2020 04:00 4 °C Fog. No wind ↑ 87% 1019 mbar 4 km \n",
      "1-Jan-2020 05:00 4 °C Fog. No wind ↑ 93% 1018 mbar 4 km \n",
      "1-Jan-2020 06:00 5 °C Fog. No wind ↑ 87% 1018 mbar 4 km \n",
      "1-Jan-2020 07:00 6 °C Fog. No wind ↑ 87% 1018 mbar 4 km \n",
      "1-Jan-2020 08:00 6 °C Clear. 6 km/h ↑\n"
     ]
    }
   ],
   "metadata": {}
  },
  {
   "cell_type": "markdown",
   "source": [
    "find and replace \"°C and weather condition\" from the file with nothing."
   ],
   "metadata": {}
  },
  {
   "cell_type": "code",
   "execution_count": 27,
   "source": [
    "p=r\" °C(.*)\\.\"\n",
    "o=re.compile(p)\n",
    "k=(o.findall(f))\n",
    "f=re.sub(p,\"\",f)\n",
    "print(f[:500])"
   ],
   "outputs": [
    {
     "output_type": "stream",
     "name": "stdout",
     "text": [
      "1-Jan-2020 00:00 Wed, 1 Jan 5 No wind ↑ 93% 1020 mbar 5 km\n",
      "1-Jan-2020 01:00 5 4 km/h ↑ 87% 1019 mbar 4 km \n",
      "1-Jan-2020 02:00 5 4 km/h ↑ 87% 1019 mbar 4 km \n",
      "1-Jan-2020 03:00 5 4 km/h ↑ 87% 1019 mbar 4 km \n",
      "1-Jan-2020 04:00 4 No wind ↑ 87% 1019 mbar 4 km \n",
      "1-Jan-2020 05:00 4 No wind ↑ 93% 1018 mbar 4 km \n",
      "1-Jan-2020 06:00 5 No wind ↑ 87% 1018 mbar 4 km \n",
      "1-Jan-2020 07:00 6 No wind ↑ 87% 1018 mbar 4 km \n",
      "1-Jan-2020 08:00 6 6 km/h ↑ 87% 1018 mbar 3 km \n",
      "1-Jan-2020 09:00 7 6 km/h ↑ 81% 1019 mbar 2 km \n",
      "1-Jan\n"
     ]
    }
   ],
   "metadata": {}
  },
  {
   "cell_type": "markdown",
   "source": [
    "remove \"km\\h\" and converting \"No wind\" to \"0\" from \"windspeed column\""
   ],
   "metadata": {}
  },
  {
   "cell_type": "code",
   "execution_count": 28,
   "source": [
    "f=re.sub(r\" km/h\",\"\",f)\n",
    "f=re.sub(\"No wind\",\"0\",f)\n",
    "print(f[:500])"
   ],
   "outputs": [
    {
     "output_type": "stream",
     "name": "stdout",
     "text": [
      "1-Jan-2020 00:00 Wed, 1 Jan 5 0 ↑ 93% 1020 mbar 5 km\n",
      "1-Jan-2020 01:00 5 4 ↑ 87% 1019 mbar 4 km \n",
      "1-Jan-2020 02:00 5 4 ↑ 87% 1019 mbar 4 km \n",
      "1-Jan-2020 03:00 5 4 ↑ 87% 1019 mbar 4 km \n",
      "1-Jan-2020 04:00 4 0 ↑ 87% 1019 mbar 4 km \n",
      "1-Jan-2020 05:00 4 0 ↑ 93% 1018 mbar 4 km \n",
      "1-Jan-2020 06:00 5 0 ↑ 87% 1018 mbar 4 km \n",
      "1-Jan-2020 07:00 6 0 ↑ 87% 1018 mbar 4 km \n",
      "1-Jan-2020 08:00 6 6 ↑ 87% 1018 mbar 3 km \n",
      "1-Jan-2020 09:00 7 6 ↑ 81% 1019 mbar 2 km \n",
      "1-Jan-2020 10:00 9 0 ↑ 76% 1018 mbar 3 km \n",
      "1-Jan-2020 11:00 \n"
     ]
    }
   ],
   "metadata": {}
  },
  {
   "cell_type": "markdown",
   "source": [
    "remove \"km\" in the visibility column"
   ],
   "metadata": {}
  },
  {
   "cell_type": "code",
   "execution_count": 29,
   "source": [
    "f=re.sub(r\" km\",\"\",f)\n",
    "print(f[:500])"
   ],
   "outputs": [
    {
     "output_type": "stream",
     "name": "stdout",
     "text": [
      "1-Jan-2020 00:00 Wed, 1 Jan 5 0 ↑ 93% 1020 mbar 5\n",
      "1-Jan-2020 01:00 5 4 ↑ 87% 1019 mbar 4 \n",
      "1-Jan-2020 02:00 5 4 ↑ 87% 1019 mbar 4 \n",
      "1-Jan-2020 03:00 5 4 ↑ 87% 1019 mbar 4 \n",
      "1-Jan-2020 04:00 4 0 ↑ 87% 1019 mbar 4 \n",
      "1-Jan-2020 05:00 4 0 ↑ 93% 1018 mbar 4 \n",
      "1-Jan-2020 06:00 5 0 ↑ 87% 1018 mbar 4 \n",
      "1-Jan-2020 07:00 6 0 ↑ 87% 1018 mbar 4 \n",
      "1-Jan-2020 08:00 6 6 ↑ 87% 1018 mbar 3 \n",
      "1-Jan-2020 09:00 7 6 ↑ 81% 1019 mbar 2 \n",
      "1-Jan-2020 10:00 9 0 ↑ 76% 1018 mbar 3 \n",
      "1-Jan-2020 11:00 11 0 ↑ 58% 1018 mbar 4 \n",
      "1-Jan-202\n"
     ]
    }
   ],
   "metadata": {}
  },
  {
   "cell_type": "markdown",
   "source": [
    "remove duplicate day and date from hour 0:00 from each day"
   ],
   "metadata": {}
  },
  {
   "cell_type": "code",
   "execution_count": 30,
   "source": [
    "rr=r\" [a-zA-Z]+, \\d\\d? [a-zA-Z]+\"\n",
    "f=re.sub(rr,\"\",f)\n",
    "print(f[:500])"
   ],
   "outputs": [
    {
     "output_type": "stream",
     "name": "stdout",
     "text": [
      "1-Jan-2020 00:00 5 0 ↑ 93% 1020 mbar 5\n",
      "1-Jan-2020 01:00 5 4 ↑ 87% 1019 mbar 4 \n",
      "1-Jan-2020 02:00 5 4 ↑ 87% 1019 mbar 4 \n",
      "1-Jan-2020 03:00 5 4 ↑ 87% 1019 mbar 4 \n",
      "1-Jan-2020 04:00 4 0 ↑ 87% 1019 mbar 4 \n",
      "1-Jan-2020 05:00 4 0 ↑ 93% 1018 mbar 4 \n",
      "1-Jan-2020 06:00 5 0 ↑ 87% 1018 mbar 4 \n",
      "1-Jan-2020 07:00 6 0 ↑ 87% 1018 mbar 4 \n",
      "1-Jan-2020 08:00 6 6 ↑ 87% 1018 mbar 3 \n",
      "1-Jan-2020 09:00 7 6 ↑ 81% 1019 mbar 2 \n",
      "1-Jan-2020 10:00 9 0 ↑ 76% 1018 mbar 3 \n",
      "1-Jan-2020 11:00 11 0 ↑ 58% 1018 mbar 4 \n",
      "1-Jan-2020 12:00 12 \n"
     ]
    }
   ],
   "metadata": {}
  },
  {
   "cell_type": "markdown",
   "source": [
    "remove percentage sign from humidity column"
   ],
   "metadata": {}
  },
  {
   "cell_type": "code",
   "execution_count": 31,
   "source": [
    "f=re.sub(\"%\",\"\",f)\n",
    "print(f[:500])"
   ],
   "outputs": [
    {
     "output_type": "stream",
     "name": "stdout",
     "text": [
      "1-Jan-2020 00:00 5 0 ↑ 93 1020 mbar 5\n",
      "1-Jan-2020 01:00 5 4 ↑ 87 1019 mbar 4 \n",
      "1-Jan-2020 02:00 5 4 ↑ 87 1019 mbar 4 \n",
      "1-Jan-2020 03:00 5 4 ↑ 87 1019 mbar 4 \n",
      "1-Jan-2020 04:00 4 0 ↑ 87 1019 mbar 4 \n",
      "1-Jan-2020 05:00 4 0 ↑ 93 1018 mbar 4 \n",
      "1-Jan-2020 06:00 5 0 ↑ 87 1018 mbar 4 \n",
      "1-Jan-2020 07:00 6 0 ↑ 87 1018 mbar 4 \n",
      "1-Jan-2020 08:00 6 6 ↑ 87 1018 mbar 3 \n",
      "1-Jan-2020 09:00 7 6 ↑ 81 1019 mbar 2 \n",
      "1-Jan-2020 10:00 9 0 ↑ 76 1018 mbar 3 \n",
      "1-Jan-2020 11:00 11 0 ↑ 58 1018 mbar 4 \n",
      "1-Jan-2020 12:00 12 0 ↑ 54 1017 \n"
     ]
    }
   ],
   "metadata": {}
  },
  {
   "cell_type": "markdown",
   "source": [
    "remove mbar from pressure column"
   ],
   "metadata": {}
  },
  {
   "cell_type": "code",
   "execution_count": 32,
   "source": [
    "f=re.sub(\" mbar\",\"\",f)\n",
    "print(f[:500])"
   ],
   "outputs": [
    {
     "output_type": "stream",
     "name": "stdout",
     "text": [
      "1-Jan-2020 00:00 5 0 ↑ 93 1020 5\n",
      "1-Jan-2020 01:00 5 4 ↑ 87 1019 4 \n",
      "1-Jan-2020 02:00 5 4 ↑ 87 1019 4 \n",
      "1-Jan-2020 03:00 5 4 ↑ 87 1019 4 \n",
      "1-Jan-2020 04:00 4 0 ↑ 87 1019 4 \n",
      "1-Jan-2020 05:00 4 0 ↑ 93 1018 4 \n",
      "1-Jan-2020 06:00 5 0 ↑ 87 1018 4 \n",
      "1-Jan-2020 07:00 6 0 ↑ 87 1018 4 \n",
      "1-Jan-2020 08:00 6 6 ↑ 87 1018 3 \n",
      "1-Jan-2020 09:00 7 6 ↑ 81 1019 2 \n",
      "1-Jan-2020 10:00 9 0 ↑ 76 1018 3 \n",
      "1-Jan-2020 11:00 11 0 ↑ 58 1018 4 \n",
      "1-Jan-2020 12:00 12 0 ↑ 54 1017 5 \n",
      "1-Jan-2020 13:00 13 9 ↑ 51 1016 5 \n",
      "1-Jan-2020 14:00 12 7 \n"
     ]
    }
   ],
   "metadata": {}
  },
  {
   "cell_type": "markdown",
   "source": [
    "convert spaces to commas"
   ],
   "metadata": {}
  },
  {
   "cell_type": "code",
   "execution_count": 33,
   "source": [
    "converted=f.replace(\" \",\",\")\n",
    "print(converted[:500])"
   ],
   "outputs": [
    {
     "output_type": "stream",
     "name": "stdout",
     "text": [
      "1-Jan-2020,00:00,5,0,↑,93,1020,5\n",
      "1-Jan-2020,01:00,5,4,↑,87,1019,4,\n",
      "1-Jan-2020,02:00,5,4,↑,87,1019,4,\n",
      "1-Jan-2020,03:00,5,4,↑,87,1019,4,\n",
      "1-Jan-2020,04:00,4,0,↑,87,1019,4,\n",
      "1-Jan-2020,05:00,4,0,↑,93,1018,4,\n",
      "1-Jan-2020,06:00,5,0,↑,87,1018,4,\n",
      "1-Jan-2020,07:00,6,0,↑,87,1018,4,\n",
      "1-Jan-2020,08:00,6,6,↑,87,1018,3,\n",
      "1-Jan-2020,09:00,7,6,↑,81,1019,2,\n",
      "1-Jan-2020,10:00,9,0,↑,76,1018,3,\n",
      "1-Jan-2020,11:00,11,0,↑,58,1018,4,\n",
      "1-Jan-2020,12:00,12,0,↑,54,1017,5,\n",
      "1-Jan-2020,13:00,13,9,↑,51,1016,5,\n",
      "1-Jan-2020,14:00,12,7,\n"
     ]
    }
   ],
   "metadata": {}
  },
  {
   "cell_type": "markdown",
   "source": [
    "create the new csv file, add column names and write the modified data into it"
   ],
   "metadata": {}
  },
  {
   "cell_type": "code",
   "execution_count": 34,
   "source": [
    "weatherCSV=open(\"weather.csv\",\"w\")\n",
    "weatherCSV.write("date,time,temp,wspeed,wdirection,humidity,pressure,visibility,\n"+converted)",
    "weatherCSV.close()"
   ],
   "outputs": [
    {
     "output_type": "execute_result",
     "data": {
      "text/plain": [
       "370097"
      ]
     },
     "metadata": {},
     "execution_count": 34
    }
   ],
   "metadata": {}
  }
 ],
 "metadata": {
  "orig_nbformat": 4,
  "language_info": {
   "name": "python",
   "version": "3.8.10",
   "mimetype": "text/x-python",
   "codemirror_mode": {
    "name": "ipython",
    "version": 3
   },
   "pygments_lexer": "ipython3",
   "nbconvert_exporter": "python",
   "file_extension": ".py"
  },
  "kernelspec": {
   "name": "python3",
   "display_name": "Python 3.8.10 64-bit"
  },
  "interpreter": {
   "hash": "e7370f93d1d0cde622a1f8e1c04877d8463912d04d973331ad4851f04de6915a"
  }
 },
 "nbformat": 4,
 "nbformat_minor": 2
}
